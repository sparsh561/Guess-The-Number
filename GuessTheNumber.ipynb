{
 "cells": [
  {
   "cell_type": "code",
   "execution_count": 1,
   "metadata": {},
   "outputs": [
    {
     "name": "stdout",
     "output_type": "stream",
     "text": [
      " Too Low\n",
      " Too Low\n",
      " Too High!\n",
      " Too High!\n",
      " you guessed it right!!\n"
     ]
    }
   ],
   "source": [
    "import random\n",
    "n = random.randrange(1,10)\n",
    "guess = int(input(\"Enter any Number : \"))\n",
    "while n!=guess:\n",
    "    if guess< n:\n",
    "        print(\" Too Low\")\n",
    "        guess = int(input(\"Ener number again : \"))\n",
    "    elif guess> n:\n",
    "        print (\" Too High!\")\n",
    "        guess = int(input(\"Enter number again : \"))\n",
    "    else :\n",
    "        break\n",
    "\n",
    "print (\" you guessed it right!!\")\n",
    "    "
   ]
  }
 ],
 "metadata": {
  "kernelspec": {
   "display_name": "base",
   "language": "python",
   "name": "python3"
  },
  "language_info": {
   "codemirror_mode": {
    "name": "ipython",
    "version": 3
   },
   "file_extension": ".py",
   "mimetype": "text/x-python",
   "name": "python",
   "nbconvert_exporter": "python",
   "pygments_lexer": "ipython3",
   "version": "3.10.9"
  },
  "orig_nbformat": 4
 },
 "nbformat": 4,
 "nbformat_minor": 2
}
